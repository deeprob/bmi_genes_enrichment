{
 "cells": [
  {
   "cell_type": "code",
   "execution_count": null,
   "metadata": {},
   "outputs": [],
   "source": [
    "import pandas as pd"
   ]
  },
  {
   "cell_type": "code",
   "execution_count": null,
   "metadata": {},
   "outputs": [],
   "source": [
    "gsea_high_bmi = \"/data5/deepro/ukbiobank/analysis/bmi_project/bmi_genes_enrichment/data/partner_enrich_results/high_bmi/gsea_enrich_high_bmi.csv\"\n",
    "gsea_low_bmi = \"/data5/deepro/ukbiobank/analysis/bmi_project/bmi_genes_enrichment/data/partner_enrich_results/low_bmi/gsea_enrich_low_bmi.csv\"\n",
    "save_dir = \"/data5/deepro/ukbiobank/analysis/bmi_project/bmi_genes_enrichment/data/partner_enrich_results/organized_tables\""
   ]
  },
  {
   "cell_type": "code",
   "execution_count": null,
   "metadata": {},
   "outputs": [],
   "source": [
    "gsea_high_bmi_df = pd.read_csv(gsea_high_bmi)\n",
    "gsea_low_bmi_df = pd.read_csv(gsea_low_bmi)"
   ]
  },
  {
   "cell_type": "code",
   "execution_count": null,
   "metadata": {},
   "outputs": [],
   "source": [
    "def save_unique_description_sets(ontology):\n",
    "    gsea_high_bmi_df_selected = gsea_high_bmi_df.loc[gsea_high_bmi_df.ONTOLOGY==ontology]\n",
    "    gsea_low_bmi_df_selected = gsea_low_bmi_df.loc[gsea_low_bmi_df.ONTOLOGY==ontology]\n",
    "    uhigh_bmi_df = gsea_high_bmi_df_selected.loc[~gsea_high_bmi_df_selected.ID.isin(gsea_low_bmi_df_selected.ID)]\n",
    "    ulow_bmi_df = gsea_low_bmi_df_selected.loc[~gsea_low_bmi_df_selected.ID.isin(gsea_high_bmi_df_selected.ID)]\n",
    "    common = gsea_high_bmi_df_selected.merge(gsea_low_bmi_df_selected, left_on=\"ID\", right_on=\"ID\", suffixes=(\"_high_bmi\", \"_low_bmi\"))\n",
    "    uhigh_bmi_df.to_csv(f\"{save_dir}/gsea_{ontology}_high_bmi_unique.csv\", index=False)\n",
    "    ulow_bmi_df.to_csv(f\"{save_dir}/gsea_{ontology}_low_bmi_unique.csv\", index=False)\n",
    "    common.to_csv(f\"{save_dir}/gsea_{ontology}_common.csv\", index=False)\n",
    "    return "
   ]
  },
  {
   "cell_type": "code",
   "execution_count": null,
   "metadata": {},
   "outputs": [],
   "source": [
    "save_unique_description_sets(\"MF\")\n",
    "save_unique_description_sets(\"BP\")"
   ]
  },
  {
   "cell_type": "code",
   "execution_count": null,
   "metadata": {},
   "outputs": [],
   "source": []
  }
 ],
 "metadata": {
  "kernelspec": {
   "display_name": "Python 3.9.7 ('starrseq': conda)",
   "language": "python",
   "name": "python3"
  },
  "language_info": {
   "codemirror_mode": {
    "name": "ipython",
    "version": 3
   },
   "file_extension": ".py",
   "mimetype": "text/x-python",
   "name": "python",
   "nbconvert_exporter": "python",
   "pygments_lexer": "ipython3",
   "version": "3.9.7"
  },
  "orig_nbformat": 4,
  "vscode": {
   "interpreter": {
    "hash": "06856c2527dea3cf472b3c4994ec564df76496982852535c5a9520cd26601212"
   }
  }
 },
 "nbformat": 4,
 "nbformat_minor": 2
}
